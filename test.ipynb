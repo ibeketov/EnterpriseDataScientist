{
 "cells": [
  {
   "cell_type": "markdown",
   "execution_count": null,
   "metadata": {},
   "outputs": [],
   "source": [
    "## Finding insides from AirBnB in Berlin\n",
    "\n",
    "In this project I used the [Cross Industry Process](https://en.wikipedia.org/wiki/Cross-industry_standard_process_for_data_mining) for Data Mining on the [Berlin AirBnB dataset](http://insideairbnb.com/get-the-data.html). I hope this project will give you some valuable insides for Berlin.\n",
    "\n",
    "The CRISP-DM process can be broken down into several steps which help understanding the problem\n",
    "\n",
    "- Business Understanding\n",
    "- Data Understanding\n",
    "- Prepare Data\n",
    "- Data Modeling\n",
    "- Evaluate the Results\n",
    "- Deploy\n"
   ]
  },
  {
   "cell_type": "code",
   "execution_count": 1,
   "metadata": {},
   "outputs": [],
   "source": [
    "#Imports\n",
    "import numpy as np\n",
    "import pandas as pd\n",
    "import matplotlib.pyplot as plt\n",
    "import seaborn as sns\n",
    "\n",
    "from support import *\n",
    "\n",
    "plt.style.use('ggplot')  # Красивые графики\n",
    "plt.rcParams['figure.figsize'] = (15, 5)  # Размер картинок\n",
    "\n",
    "debug = False"
   ]
  },
  {
   "cell_type": "markdown",
   "execution_count": null,
   "metadata": {},
   "outputs": [],
   "source": [
    "## Business Understanding\n"
   ]
  },
  {
   "cell_type": "markdown",
   "execution_count": null,
   "metadata": {},
   "outputs": [],
   "source": [
    "## Data Understanding\n",
    "\n",
    "To answer the questions curated below it is necessary to obtain some sort of Data understanding. This includes a general overview of what kind of information is available within the dataset. But also where there might be potential shortcomings, such as missing data. \n",
    "\n",
    "We are going to work with such datasets:\n",
    "\n",
    "- listings.csv consists of details of all the listings in Berlin including their price, accomodates, ratings, number of reviews, summary, name, owner name, Description, host Id and many other columns decribing details of listings.\n",
    "\n",
    "- calendar.csv consists of details of listings and its availability and its price.\n"
   ]
  },
  {
   "cell_type": "code",
   "execution_count": 2,
   "metadata": {},
   "outputs": [],
   "source": [
    "# Reat the data\n",
    "listings = pd.read_csv('data/listings.csv.gz', low_memory=False, compression=\"gzip\")\n",
    "# calendar = pd.read_csv('./calendar.csv')"
   ]
  },
  {
   "cell_type": "code",
   "execution_count": null,
   "metadata": {},
   "outputs": [],
   "source": [
    "# Checking the shape of the listings datasets\n",
    "if debug:\n",
    "    listings.shape\n",
    "    listings.head()"
   ]
  },
  {
   "cell_type": "code",
   "execution_count": null,
   "metadata": {},
   "outputs": [],
   "source": [
    "if debug:\n",
    "    pd.options.display.max_columns = listings.shape[1]\n",
    "    listings.describe()"
   ]
  },
  {
   "cell_type": "code",
   "execution_count": 2,
   "metadata": {},
   "outputs": [],
   "source": [
    "# Data owerview \n",
    "if debug:\n",
    "    colcheck(listings)"
   ]
  },
  {
   "cell_type": "code",
   "execution_count": null,
   "metadata": {},
   "outputs": [],
   "source": [
    "if debug:\n",
    "    listings.isnull().mean()"
   ]
  },
  {
   "cell_type": "code",
   "execution_count": null,
   "metadata": {},
   "outputs": [],
   "source": [
    "#Provide a set of column name that have no values and must be dropped\n",
    "if debug:\n",
    "    listings.columns[listings.isnull().mean() == 1]"
   ]
  },
  {
   "cell_type": "code",
   "execution_count": null,
   "metadata": {},
   "outputs": [],
   "source": [
    "#listings.columns.tolist()"
   ]
  },
  {
   "cell_type": "code",
   "execution_count": null,
   "metadata": {},
   "outputs": [],
   "source": [
    "if debug:\n",
    "    listings.hist(figsize=(16,100),layout=(44,1));"
   ]
  },
  {
   "cell_type": "code",
   "execution_count": null,
   "metadata": {},
   "outputs": [],
   "source": [
    "if debug:\n",
    "    plt.figure(figsize=(16,10))\n",
    "    sns.heatmap(listings.corr(), annot=True, fmt='.1f')"
   ]
  },
  {
   "cell_type": "code",
   "execution_count": 47,
   "metadata": {},
   "outputs": [
    {
     "data": {
      "text/plain": "object     62\nfloat64    23\nint64      21\ndtype: int64"
     },
     "execution_count": 47,
     "metadata": {},
     "output_type": "execute_result"
    }
   ],
   "source": [
    "if debug:\n",
    "    listings.dtypes.value_counts()"
   ]
  },
  {
   "cell_type": "markdown",
   "execution_count": null,
   "metadata": {},
   "outputs": [],
   "source": [
    "## Prepare Data\n",
    "\n",
    "decide on the data that we are going to use for our analysis. "
   ]
  },
  {
   "cell_type": "code",
   "execution_count": 32,
   "metadata": {},
   "outputs": [],
   "source": [
    "# Define a subset of the original Listing dataset\n",
    "ss = listings[['id','price', 'property_type', 'bedrooms', 'minimum_nights',\n",
    "               'number_of_reviews', 'reviews_per_month','review_scores_value', 'availability_365', 'availability_90', 'availability_60', 'availability_30']]\n",
    "\n",
    "#To simplify let's use only appartments\n",
    "ss = ss[ss['property_type']=='Apartment']\n",
    "\n",
    "# After filtering out only the apartments let's drop property_type\n",
    "ss = ss.drop(columns=['property_type'])"
   ]
  },
  {
   "cell_type": "code",
   "execution_count": 8,
   "metadata": {},
   "outputs": [],
   "source": [
    "if debug:\n",
    "    showmissing(ss)"
   ]
  },
  {
   "cell_type": "code",
   "execution_count": null,
   "metadata": {},
   "outputs": [],
   "source": [
    "#Drop missing values\n",
    "ss.dropna(axis=0)"
   ]
  },
  {
   "cell_type": "code",
   "execution_count": 33,
   "metadata": {},
   "outputs": [
    {
     "data": {
      "text/plain": "count    21849.000000\nmean        61.782461\nstd         91.428355\nmin          0.000000\n25%         33.000000\n50%         49.000000\n75%         75.000000\nmax       9000.000000\nName: price, dtype: float64"
     },
     "execution_count": 33,
     "metadata": {},
     "output_type": "execute_result"
    }
   ],
   "source": [
    "# Clearing the price\n",
    "\n",
    "# ss = ss.replace({'price': r'\\$(\\d{,3})\\,?(\\d{,3})\\.*(\\d{,3})'}, {'price': r'\\1\\2'}, regex=True)\n",
    "# ss.price = ss['price'].astype(int)\n",
    "\n",
    "ss['price'] = ss['price'].str.replace(',', '')\n",
    "ss['price'] = ss['price'].str.replace('$', '')\n",
    "ss['price'] = ss['price'].astype(float)\n",
    "ss['price'].describe()\n"
   ]
  },
  {
   "cell_type": "code",
   "execution_count": 53,
   "metadata": {},
   "outputs": [
    {
     "data": {
      "text/plain": "(-9.001, 450.0]     0.997757\n(450.0, 900.0]      0.001693\n(900.0, 1350.0]     0.000320\n(4950.0, 5400.0]    0.000046\n(1350.0, 1800.0]    0.000046\n(1800.0, 2250.0]    0.000046\n(8550.0, 9000.0]    0.000046\n(4050.0, 4500.0]    0.000046\n(5400.0, 5850.0]    0.000000\n(5850.0, 6300.0]    0.000000\n(4500.0, 4950.0]    0.000000\n(8100.0, 8550.0]    0.000000\n(3600.0, 4050.0]    0.000000\n(3150.0, 3600.0]    0.000000\n(2700.0, 3150.0]    0.000000\n(2250.0, 2700.0]    0.000000\n(6300.0, 6750.0]    0.000000\n(6750.0, 7200.0]    0.000000\n(7200.0, 7650.0]    0.000000\n(7650.0, 8100.0]    0.000000\nName: price, dtype: float64"
     },
     "execution_count": 53,
     "metadata": {},
     "output_type": "execute_result"
    }
   ],
   "source": [
    "ss.price.value_counts(normalize = True, bins = 20)"
   ]
  },
  {
   "cell_type": "code",
   "execution_count": 51,
   "metadata": {},
   "outputs": [
    {
     "data": {
      "text/plain": "0.0"
     },
     "execution_count": 51,
     "metadata": {},
     "output_type": "execute_result"
    }
   ],
   "source": [
    "ss.price.min()"
   ]
  },
  {
   "cell_type": "code",
   "execution_count": 46,
   "metadata": {},
   "outputs": [
    {
     "data": {
      "text/plain": "(136, 9)"
     },
     "execution_count": 46,
     "metadata": {},
     "output_type": "execute_result"
    }
   ],
   "source": [
    "ss[ss['price'] >= 300].shape\n",
    "# all_rm = all_rm[all_rm['price'] <= 200]"
   ]
  },
  {
   "cell_type": "code",
   "execution_count": 44,
   "metadata": {},
   "outputs": [
    {
     "data": {
      "text/html": "<div>\n<style scoped>\n    .dataframe tbody tr th:only-of-type {\n        vertical-align: middle;\n    }\n\n    .dataframe tbody tr th {\n        vertical-align: top;\n    }\n\n    .dataframe thead th {\n        text-align: right;\n    }\n</style>\n<table border=\"1\" class=\"dataframe\">\n  <thead>\n    <tr style=\"text-align: right;\">\n      <th></th>\n      <th>id</th>\n      <th>price</th>\n    </tr>\n  </thead>\n  <tbody>\n    <tr>\n      <th>8200</th>\n      <td>14201780</td>\n      <td>$5,000.00</td>\n    </tr>\n  </tbody>\n</table>\n</div>",
      "text/plain": "            id      price\n8200  14201780  $5,000.00"
     },
     "execution_count": 44,
     "metadata": {},
     "output_type": "execute_result"
    }
   ],
   "source": [
    "listings[listings['id'] == 14201780][['id','price']]"
   ]
  },
  {
   "cell_type": "code",
   "execution_count": null,
   "metadata": {},
   "outputs": [],
   "source": []
  }
 ],
 "metadata": {
  "kernelspec": {
   "display_name": "Python 3",
   "language": "python",
   "name": "python3"
  },
  "language_info": {
   "codemirror_mode": {
    "name": "ipython",
    "version": 3
   },
   "file_extension": ".py",
   "mimetype": "text/x-python",
   "name": "python",
   "nbconvert_exporter": "python",
   "pygments_lexer": "ipython3",
   "version": "3.7.4-final"
  }
 },
 "nbformat": 4,
 "nbformat_minor": 2
}